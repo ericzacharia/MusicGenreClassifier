{
  "cells": [
    {
      "cell_type": "code",
      "execution_count": null,
      "metadata": {
        "colab": {
          "base_uri": "https://localhost:8080/",
          "height": 100
        },
        "id": "qX51Qhp_M6w_",
        "outputId": "5a025bb2-2a49-4273-ee53-8e0626c3d2b4"
      },
      "outputs": [],
      "source": [
        "!pip install pydub\n",
        "!pip install librosa\n",
        "!pip install numba==0.49.0\n",
        "!pip install llvmlite==0.32.1"
      ]
    },
    {
      "cell_type": "code",
      "execution_count": null,
      "metadata": {},
      "outputs": [],
      "source": [
        "import numpy as np\n",
        "import os\n",
        "import matplotlib.pyplot as plt\n",
        "import librosa\n",
        "from keras.layers import Input, Dense, Activation, BatchNormalization, Flatten, Conv2D, MaxPooling2D\n",
        "from keras.models import Model\n",
        "from keras.optimizers import Adam\n",
        "from keras.initializers import glorot_uniform\n",
        "from matplotlib.backends.backend_agg import FigureCanvasAgg\n",
        "from pydub import AudioSegment\n",
        "import shutil\n",
        "from keras.preprocessing.image import ImageDataGenerator\n",
        "import random\n",
        "\n",
        "# COLAB = True\n",
        "COLAB = False"
      ]
    },
    {
      "cell_type": "code",
      "execution_count": null,
      "metadata": {
        "colab": {
          "base_uri": "https://localhost:8080/",
          "height": 33
        },
        "id": "-Ut7UPmFNr-D",
        "outputId": "be3bc026-e621-4341-f8a7-ada53424d8e0"
      },
      "outputs": [],
      "source": [
        "if COLAB:\n",
        "    from google.colab import drive\n",
        "    drive.mount('/content/gdrive')\n",
        "    try:\n",
        "        os.makedirs('/content/gdrive/MyDrive/Data/spectrograms')\n",
        "    except FileExistsError:\n",
        "        pass\n",
        "else:\n",
        "    try:\n",
        "        os.makedirs('./spectrograms')\n",
        "    except FileExistsError:\n",
        "        pass\n"
      ]
    },
    {
      "cell_type": "code",
      "execution_count": null,
      "metadata": {
        "id": "l2Im1KYbDkXI"
      },
      "outputs": [],
      "source": [
        "genres = 'blues classical country disco pop hiphop metal reggae rock'\n",
        "genres = genres.split()"
      ]
    },
    {
      "cell_type": "code",
      "execution_count": null,
      "metadata": {},
      "outputs": [],
      "source": [
        "if COLAB:\n",
        "    for g in genres:\n",
        "        path1 = os.path.join('/content/gdrive/MyDrive/Data/audio_samples', f'{g}')\n",
        "        try:\n",
        "            os.makedirs(path1)\n",
        "        except FileExistsError:\n",
        "            pass\n",
        "        path = os.path.join(\n",
        "            '/content/gdrive/MyDrive/Data/spectrograms', f'{g}')\n",
        "        try:\n",
        "            os.makedirs(path)\n",
        "        except FileExistsError:\n",
        "            pass\n",
        "else:\n",
        "    for g in genres:\n",
        "        path1 = os.path.join('./audio_samples', f'{g}')\n",
        "        try:\n",
        "            os.makedirs(path1)\n",
        "        except FileExistsError:\n",
        "            pass\n",
        "        path = os.path.join('./spectrograms', f'{g}')\n",
        "        try:\n",
        "            os.makedirs(path)\n",
        "        except FileExistsError:\n",
        "            pass\n"
      ]
    },
    {
      "cell_type": "code",
      "execution_count": null,
      "metadata": {},
      "outputs": [],
      "source": [
        "from pydub import AudioSegment\n",
        "newSong = 'newSong'\n",
        "i = 0\n",
        "for g in genres:\n",
        "    j = 0\n",
        "    print(f\"{g}\")\n",
        "    if COLAB:\n",
        "        directory = '/content/gdrive/MyDrive/Data/genres_original'\n",
        "    else:\n",
        "        directory = './genres_original'\n",
        "    for filename in os.listdir(os.path.join(directory, f\"{g}\")):\n",
        "        song = os.path.join(f'{directory}/{g}', f'{filename}')\n",
        "        j += 1\n",
        "        for w in range(0, 10):\n",
        "            i += 1\n",
        "            t1 = 3 * w * 1000\n",
        "            t2 = 3 * (w + 1) * 1000\n",
        "            newAudio = AudioSegment.from_wav(song)\n",
        "            new = newAudio[t1:t2]\n",
        "            if COLAB:\n",
        "                new.export(\n",
        "                    f'/content/gdrive/MyDrive/Data/audio_samples/{g}/{g}{j}{w}.wav', format=\"wav\")\n",
        "            else:\n",
        "                new.export(\n",
        "                    f'./audio_samples/{g}/{g}{j}{w}.wav', format=\"wav\")"
      ]
    },
    {
      "cell_type": "code",
      "execution_count": null,
      "metadata": {
        "colab": {
          "base_uri": "https://localhost:8080/",
          "height": 1000
        },
        "id": "a0ugB2_kFySD",
        "outputId": "f604d4f1-9faa-4411-84e6-b318d28aa6af"
      },
      "outputs": [],
      "source": [
        "if COLAB:\n",
        "    !zip -r /content/audio_samples.zip /content/audio_samples"
      ]
    },
    {
      "cell_type": "code",
      "execution_count": null,
      "metadata": {
        "colab": {
          "base_uri": "https://localhost:8080/",
          "height": 67
        },
        "id": "bVVA6SMuiIJ9",
        "outputId": "2967b1ca-364b-4c84-d5a5-50ebb2666418"
      },
      "outputs": [],
      "source": [
        "if COLAB:\n",
        "    directory = '/content/audio_samples'\n",
        "else:\n",
        "    directory = './audio_samples'\n",
        "for g in genres:\n",
        "    j = 0\n",
        "    print(g)\n",
        "    for filename in os.listdir(os.path.join(directory, f\"{g}\")):\n",
        "        song = os.path.join(f'{directory}/{g}', f'{filename}')\n",
        "        j = j+1\n",
        "        y,sr = librosa.load(song, duration=3)\n",
        "        mels = librosa.feature.melspectrogram(y=y, sr=sr)\n",
        "        fig = plt.Figure()\n",
        "        canvas = FigureCanvasAgg(fig)\n",
        "        p = plt.imshow(librosa.power_to_db(mels, ref=np.max))\n",
        "        if COLAB:\n",
        "            plt.savefig(\n",
        "                f'/content/gdrive/MyDrive/spectrograms/{g}/{g}{j}.png')\n",
        "        else:\n",
        "            plt.savefig(f'./spectrograms/{g}/{g}{j}.png')"
      ]
    },
    {
      "cell_type": "code",
      "execution_count": null,
      "metadata": {},
      "outputs": [],
      "source": [
        "# Split data into testing and training\n",
        "directory = './spectrograms/train/'\n",
        "if COLAB:\n",
        "    directory = \"/content/gdrive/MyDrive/Data/spectrograms/train/\"\n",
        "for g in genres:\n",
        "    filenames = os.listdir(os.path.join(directory, f\"{g}\"))\n",
        "    random.shuffle(filenames)\n",
        "    test_files = filenames[0:100]\n",
        "    for f in test_files:\n",
        "        shutil.move(f\"{directory}{g}/{f}\", f\"{directory}{g}\")"
      ]
    },
    {
      "cell_type": "code",
      "execution_count": null,
      "metadata": {
        "colab": {
          "base_uri": "https://localhost:8080/",
          "height": 50
        },
        "id": "o78Q1xTo3mRn",
        "outputId": "f6bb9e42-680a-4832-ab3a-fc1968af32cc"
      },
      "outputs": [],
      "source": [
        "train_directory = directory\n",
        "train_data_generator = ImageDataGenerator(rescale=1./255)\n",
        "train_generator = train_data_generator.flow_from_directory(train_directory, target_size=(\n",
        "    288, 432), color_mode=\"rgba\", class_mode='categorical', batch_size=128)\n",
        "\n",
        "validation_directory = f\"{directory[:-6]}test/\"\n",
        "validation_data_generator = ImageDataGenerator(rescale=1./255)\n",
        "validation_generator = validation_data_generator.flow_from_directory(validation_directory, target_size=(\n",
        "    288, 432), color_mode='rgba', class_mode='categorical', batch_size=128)"
      ]
    },
    {
      "cell_type": "code",
      "execution_count": null,
      "metadata": {
        "id": "yi8lZUStDa6U"
      },
      "outputs": [],
      "source": [
        "import keras.backend as K\n",
        "\n",
        "def cnn(input_shape=(288, 432, 4), classes=9):\n",
        "    def step(dim, X):\n",
        "        X = Conv2D(dim, kernel_size=(3, 3), strides=(1, 1))(X)\n",
        "        X = BatchNormalization(axis=3)(X)\n",
        "        X = Activation('relu')(X)\n",
        "        return MaxPooling2D((2, 2))(X)\n",
        "    X_input = Input(input_shape)\n",
        "    X = X_input\n",
        "    layer_dims = [8, 16, 32, 64, 128, 256]\n",
        "    for dim in layer_dims:\n",
        "        X = step(dim, X)\n",
        "\n",
        "    X = Flatten()(X)\n",
        "    X = Dense(classes, activation='softmax',\n",
        "              name=f'fc{classes}',  kernel_initializer=glorot_uniform(seed=9))(X)\n",
        "    model = Model(inputs=X_input, outputs=X, name='cnn')\n",
        "    return model\n",
        "\n",
        "def f1_score(y_true, y_pred):\n",
        "    true_positives = K.sum(K.round(K.clip(y_true * y_pred, 0, 1)))\n",
        "    possible_positives = K.sum(K.round(K.clip(y_true, 0, 1)))\n",
        "    predicted_positives = K.sum(K.round(K.clip(y_pred, 0, 1)))\n",
        "    precision = true_positives / (predicted_positives + K.epsilon())\n",
        "    recall = true_positives / (possible_positives + K.epsilon())\n",
        "    f1_val = 2 * (precision * recall) / (precision + recall + K.epsilon())\n",
        "    return f1_val"
      ]
    },
    {
      "cell_type": "code",
      "execution_count": null,
      "metadata": {
        "colab": {
          "base_uri": "https://localhost:8080/",
          "height": 120
        },
        "id": "8BPQgHGNxdgD",
        "outputId": "728058f3-7780-4aa4-9ad6-31c94136e8ce"
      },
      "outputs": [],
      "source": [
        "model = cnn(input_shape=(288, 432, 4), classes=9)\n",
        "opt = Adam(learning_rate=0.00005)\n",
        "model.compile(optimizer=opt, loss='categorical_crossentropy',\n",
        "              metrics=['accuracy', f1_score])\n",
        "model.summary()"
      ]
    },
    {
      "cell_type": "code",
      "execution_count": null,
      "metadata": {
        "colab": {
          "base_uri": "https://localhost:8080/",
          "height": 1000
        },
        "id": "RGy6YFBJzWSV",
        "outputId": "1c0b24b2-8d1c-4004-d654-609a69db8f92"
      },
      "outputs": [],
      "source": [
        "model.fit(train_generator, epochs=40, validation_data=validation_generator)"
      ]
    },
    {
      "cell_type": "code",
      "execution_count": null,
      "metadata": {},
      "outputs": [],
      "source": [
        "model.save('CNNModelWeights', save_format='h5')"
      ]
    }
  ],
  "metadata": {
    "accelerator": "GPU",
    "colab": {
      "authorship_tag": "ABX9TyN5PrT2UkyhE13HljOGDYC3",
      "collapsed_sections": [],
      "include_colab_link": true,
      "name": "CNN genre.ipynb",
      "provenance": []
    },
    "kernelspec": {
      "display_name": "Python 3",
      "name": "python3"
    },
    "language_info": {
      "codemirror_mode": {
        "name": "ipython",
        "version": 3
      },
      "file_extension": ".py",
      "mimetype": "text/x-python",
      "name": "python",
      "nbconvert_exporter": "python",
      "pygments_lexer": "ipython3",
      "version": "3.8.8"
    }
  },
  "nbformat": 4,
  "nbformat_minor": 0
}
