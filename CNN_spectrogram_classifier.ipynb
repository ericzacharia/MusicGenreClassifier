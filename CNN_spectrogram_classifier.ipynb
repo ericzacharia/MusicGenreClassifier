{
  "cells": [
    {
      "cell_type": "code",
      "execution_count": 4,
      "metadata": {
        "colab": {
          "base_uri": "https://localhost:8080/",
          "height": 100
        },
        "id": "qX51Qhp_M6w_",
        "outputId": "5a025bb2-2a49-4273-ee53-8e0626c3d2b4"
      },
      "outputs": [
        {
          "name": "stdout",
          "output_type": "stream",
          "text": [
            "Requirement already satisfied: pydub in c:\\users\\hocke\\anaconda3\\lib\\site-packages (0.25.1)\n",
            "Requirement already satisfied: librosa in c:\\users\\hocke\\anaconda3\\lib\\site-packages (0.8.1)\n",
            "Requirement already satisfied: soundfile>=0.10.2 in c:\\users\\hocke\\anaconda3\\lib\\site-packages (from librosa) (0.10.3.post1)\n",
            "Requirement already satisfied: numba>=0.43.0 in c:\\users\\hocke\\anaconda3\\lib\\site-packages (from librosa) (0.53.1)\n",
            "Requirement already satisfied: packaging>=20.0 in c:\\users\\hocke\\anaconda3\\lib\\site-packages (from librosa) (20.9)\n",
            "Requirement already satisfied: decorator>=3.0.0 in c:\\users\\hocke\\anaconda3\\lib\\site-packages (from librosa) (5.0.6)\n",
            "Requirement already satisfied: joblib>=0.14 in c:\\users\\hocke\\anaconda3\\lib\\site-packages (from librosa) (1.0.1)\n",
            "Requirement already satisfied: scipy>=1.0.0 in c:\\users\\hocke\\anaconda3\\lib\\site-packages (from librosa) (1.6.2)\n",
            "Requirement already satisfied: resampy>=0.2.2 in c:\\users\\hocke\\anaconda3\\lib\\site-packages (from librosa) (0.2.2)\n",
            "Requirement already satisfied: audioread>=2.0.0 in c:\\users\\hocke\\anaconda3\\lib\\site-packages (from librosa) (2.1.9)\n",
            "Requirement already satisfied: pooch>=1.0 in c:\\users\\hocke\\anaconda3\\lib\\site-packages (from librosa) (1.5.2)\n",
            "Requirement already satisfied: scikit-learn!=0.19.0,>=0.14.0 in c:\\users\\hocke\\anaconda3\\lib\\site-packages (from librosa) (0.24.1)\n",
            "Requirement already satisfied: numpy>=1.15.0 in c:\\users\\hocke\\anaconda3\\lib\\site-packages (from librosa) (1.20.1)\n",
            "Requirement already satisfied: llvmlite<0.37,>=0.36.0rc1 in c:\\users\\hocke\\anaconda3\\lib\\site-packages (from numba>=0.43.0->librosa) (0.36.0)\n",
            "Requirement already satisfied: setuptools in c:\\users\\hocke\\anaconda3\\lib\\site-packages (from numba>=0.43.0->librosa) (52.0.0.post20210125)\n",
            "Requirement already satisfied: pyparsing>=2.0.2 in c:\\users\\hocke\\anaconda3\\lib\\site-packages (from packaging>=20.0->librosa) (2.4.7)\n",
            "Requirement already satisfied: requests in c:\\users\\hocke\\anaconda3\\lib\\site-packages (from pooch>=1.0->librosa) (2.25.1)\n",
            "Requirement already satisfied: appdirs in c:\\users\\hocke\\anaconda3\\lib\\site-packages (from pooch>=1.0->librosa) (1.4.4)\n",
            "Requirement already satisfied: six>=1.3 in c:\\users\\hocke\\anaconda3\\lib\\site-packages (from resampy>=0.2.2->librosa) (1.15.0)\n",
            "Requirement already satisfied: threadpoolctl>=2.0.0 in c:\\users\\hocke\\anaconda3\\lib\\site-packages (from scikit-learn!=0.19.0,>=0.14.0->librosa) (2.1.0)\n",
            "Requirement already satisfied: cffi>=1.0 in c:\\users\\hocke\\anaconda3\\lib\\site-packages (from soundfile>=0.10.2->librosa) (1.14.5)\n",
            "Requirement already satisfied: pycparser in c:\\users\\hocke\\anaconda3\\lib\\site-packages (from cffi>=1.0->soundfile>=0.10.2->librosa) (2.20)\n",
            "Requirement already satisfied: chardet<5,>=3.0.2 in c:\\users\\hocke\\anaconda3\\lib\\site-packages (from requests->pooch>=1.0->librosa) (4.0.0)\n",
            "Requirement already satisfied: urllib3<1.27,>=1.21.1 in c:\\users\\hocke\\anaconda3\\lib\\site-packages (from requests->pooch>=1.0->librosa) (1.26.4)\n",
            "Requirement already satisfied: idna<3,>=2.5 in c:\\users\\hocke\\anaconda3\\lib\\site-packages (from requests->pooch>=1.0->librosa) (2.10)\n",
            "Requirement already satisfied: certifi>=2017.4.17 in c:\\users\\hocke\\anaconda3\\lib\\site-packages (from requests->pooch>=1.0->librosa) (2020.12.5)\n",
            "Collecting numba==0.49.0\n",
            "  Using cached numba-0.49.0-cp38-cp38-win_amd64.whl (2.1 MB)\n",
            "Collecting llvmlite<=0.33.0.dev0,>=0.31.0.dev0\n",
            "  Using cached llvmlite-0.32.1-cp38-cp38-win_amd64.whl (13.6 MB)\n",
            "Requirement already satisfied: numpy>=1.15 in c:\\users\\hocke\\anaconda3\\lib\\site-packages (from numba==0.49.0) (1.20.1)\n",
            "Requirement already satisfied: setuptools in c:\\users\\hocke\\anaconda3\\lib\\site-packages (from numba==0.49.0) (52.0.0.post20210125)\n",
            "Installing collected packages: llvmlite, numba\n",
            "  Attempting uninstall: llvmlite\n",
            "    Found existing installation: llvmlite 0.36.0\n"
          ]
        },
        {
          "name": "stderr",
          "output_type": "stream",
          "text": [
            "ERROR: Cannot uninstall 'llvmlite'. It is a distutils installed project and thus we cannot accurately determine which files belong to it which would lead to only a partial uninstall.\n"
          ]
        },
        {
          "name": "stdout",
          "output_type": "stream",
          "text": [
            "Collecting llvmlite==0.32.1\n",
            "  Using cached llvmlite-0.32.1-cp38-cp38-win_amd64.whl (13.6 MB)\n",
            "Installing collected packages: llvmlite\n",
            "  Attempting uninstall: llvmlite\n",
            "    Found existing installation: llvmlite 0.36.0\n"
          ]
        },
        {
          "name": "stderr",
          "output_type": "stream",
          "text": [
            "ERROR: Cannot uninstall 'llvmlite'. It is a distutils installed project and thus we cannot accurately determine which files belong to it which would lead to only a partial uninstall.\n"
          ]
        }
      ],
      "source": [
        "!pip install pydub\n",
        "!pip install librosa\n",
        "!pip install numba==0.49.0\n",
        "!pip install llvmlite==0.32.1"
      ]
    },
    {
      "cell_type": "code",
      "execution_count": 5,
      "metadata": {},
      "outputs": [],
      "source": [
        "import numpy as np\n",
        "import os\n",
        "import matplotlib.pyplot as plt\n",
        "import librosa\n",
        "import random\n",
        "import shutil\n",
        "from pydub import AudioSegment\n",
        "from matplotlib.backends.backend_agg import FigureCanvasAgg\n",
        "from tensorflow.keras.optimizers import Adam\n",
        "from keras.layers import Input, Dense, Activation, BatchNormalization, Flatten, Conv2D, MaxPooling2D, Dropout\n",
        "from keras.models import Model\n",
        "from keras.initializers import glorot_uniform\n",
        "from keras.preprocessing.image import ImageDataGenerator\n",
        "import keras.backend as K\n",
        "\n",
        "# COLAB = True\n",
        "COLAB = False\n"
      ]
    },
    {
      "cell_type": "code",
      "execution_count": 6,
      "metadata": {
        "colab": {
          "base_uri": "https://localhost:8080/",
          "height": 33
        },
        "id": "-Ut7UPmFNr-D",
        "outputId": "be3bc026-e621-4341-f8a7-ada53424d8e0"
      },
      "outputs": [],
      "source": [
        "if COLAB:\n",
        "    from google.colab import drive\n",
        "    drive.mount('/content/gdrive')\n",
        "    try:\n",
        "        os.makedirs('/content/gdrive/MyDrive/Data/spectrograms')\n",
        "        os.makedirs('/content/gdrive/MyDrive/Data/audio_samples')\n",
        "    except FileExistsError:\n",
        "        pass\n",
        "else:\n",
        "    try:\n",
        "        os.makedirs('./spectrograms')\n",
        "        os.makedirs('./audio_samples')\n",
        "    except FileExistsError:\n",
        "        pass"
      ]
    },
    {
      "cell_type": "code",
      "execution_count": 7,
      "metadata": {
        "id": "l2Im1KYbDkXI"
      },
      "outputs": [],
      "source": [
        "genres = 'blues classical country disco pop hiphop metal reggae rock'\n",
        "genres = genres.split()"
      ]
    },
    {
      "cell_type": "code",
      "execution_count": 8,
      "metadata": {},
      "outputs": [],
      "source": [
        "if COLAB:\n",
        "    for g in genres:\n",
        "        path1 = os.path.join('/content/gdrive/MyDrive/Data/audio_samples', f'{g}')\n",
        "        try:\n",
        "            os.makedirs(path1)\n",
        "        except FileExistsError:\n",
        "            pass\n",
        "        path = os.path.join(\n",
        "            '/content/gdrive/MyDrive/Data/spectrograms', f'{g}')\n",
        "        try:\n",
        "            os.makedirs(path)\n",
        "        except FileExistsError:\n",
        "            pass\n",
        "else:\n",
        "    for g in genres:\n",
        "        path1 = os.path.join('./audio_samples', f'{g}')\n",
        "        try:\n",
        "            os.makedirs(path1)\n",
        "        except FileExistsError:\n",
        "            pass\n",
        "        path = os.path.join('./spectrograms', f'{g}')\n",
        "        try:\n",
        "            os.makedirs(path)\n",
        "        except FileExistsError:\n",
        "            pass"
      ]
    },
    {
      "cell_type": "code",
      "execution_count": 44,
      "metadata": {},
      "outputs": [
        {
          "name": "stdout",
          "output_type": "stream",
          "text": [
            "blues\n",
            "classical\n",
            "country\n",
            "disco\n",
            "pop\n",
            "hiphop\n",
            "metal\n",
            "reggae\n",
            "rock\n"
          ]
        }
      ],
      "source": [
        "i = 0\n",
        "for g in genres:\n",
        "    j = 0\n",
        "    print(f\"{g}\")\n",
        "    if COLAB:\n",
        "        directory = '/content/gdrive/MyDrive/Data/genres_original'\n",
        "    else:\n",
        "        directory = './genres_original'\n",
        "    for filename in os.listdir(os.path.join(directory, f\"{g}\")):\n",
        "        song = os.path.join(f'{directory}/{g}', f'{filename}')\n",
        "        j += 1\n",
        "        for w in range(0, 10):\n",
        "            i += 1\n",
        "            t1 = 3 * w * 1000\n",
        "            t2 = 3 * (w + 1) * 1000\n",
        "            newAudio = AudioSegment.from_wav(song)\n",
        "            new = newAudio[t1:t2]\n",
        "            if COLAB:\n",
        "                new.export(\n",
        "                    f'/content/gdrive/MyDrive/Data/audio_samples/{g}/{g}{j}{w}.wav', format=\"wav\")\n",
        "            else:\n",
        "                new.export(\n",
        "                    f'./audio_samples/{g}/{g}{j}{w}.wav', format=\"wav\")"
      ]
    },
    {
      "cell_type": "code",
      "execution_count": 45,
      "metadata": {
        "colab": {
          "base_uri": "https://localhost:8080/",
          "height": 67
        },
        "id": "bVVA6SMuiIJ9",
        "outputId": "2967b1ca-364b-4c84-d5a5-50ebb2666418"
      },
      "outputs": [
        {
          "name": "stdout",
          "output_type": "stream",
          "text": [
            "blues\n",
            "classical\n",
            "country\n"
          ]
        }
      ],
      "source": [
        "if COLAB:\n",
        "    directory = '/content/gdrive/MyDrive/Data/audio_samples'\n",
        "else:\n",
        "    directory = './audio_samples'\n",
        "for g in genres:\n",
        "    j = 0\n",
        "    print(g)\n",
        "    for filename in os.listdir(os.path.join(directory, f\"{g}\")):\n",
        "        song = os.path.join(f'{directory}/{g}', f'{filename}')\n",
        "        j = j+1\n",
        "        y, sr = librosa.load(song, duration=3)\n",
        "        mels = librosa.feature.melspectrogram(y=y, sr=sr)\n",
        "        fig = plt.Figure()\n",
        "        canvas = FigureCanvasAgg(fig)\n",
        "        p = plt.imshow(librosa.power_to_db(mels, ref=np.max))\n",
        "        if COLAB:\n",
        "            plt.savefig(\n",
        "                f'/content/gdrive/MyDrive/Data/spectrograms/train/{g}/{g}{j}.png')\n",
        "        else:\n",
        "            plt.savefig(f'./spectrograms/train/{g}/{g}{j}.png')"
      ]
    },
    {
      "cell_type": "code",
      "execution_count": 9,
      "metadata": {},
      "outputs": [
        {
          "name": "stdout",
          "output_type": "stream",
          "text": [
            "./spectrograms/train/\n"
          ]
        }
      ],
      "source": [
        "# Split data into testing and training\n",
        "directory = './spectrograms/train/'\n",
        "print(directory)\n",
        "if COLAB:\n",
        "    directory = \"/content/gdrive/MyDrive/Data/spectrograms/train/\"\n",
        "for g in genres:\n",
        "    filenames = os.listdir(os.path.join(directory, f\"{g}\"))\n",
        "    random.shuffle(filenames)\n",
        "    test_files = filenames[0:100]\n",
        "    for f in test_files:\n",
        "        shutil.move(f\"{directory}{g}/{f}\", f\"{directory[:-6]}test/{g}\")"
      ]
    },
    {
      "cell_type": "code",
      "execution_count": 10,
      "metadata": {
        "colab": {
          "base_uri": "https://localhost:8080/",
          "height": 50
        },
        "id": "o78Q1xTo3mRn",
        "outputId": "f6bb9e42-680a-4832-ab3a-fc1968af32cc"
      },
      "outputs": [
        {
          "name": "stdout",
          "output_type": "stream",
          "text": [
            "Found 7405 images belonging to 9 classes.\n",
            "Found 900 images belonging to 9 classes.\n"
          ]
        }
      ],
      "source": [
        "train_directory = directory\n",
        "train_data_generator = ImageDataGenerator(rescale=1./255)\n",
        "train_generator = train_data_generator.flow_from_directory(train_directory, target_size=(\n",
        "    288, 432), color_mode=\"rgba\", class_mode='categorical', batch_size=128)\n",
        "\n",
        "validation_directory = f\"{directory[:-6]}test/\"\n",
        "validation_data_generator = ImageDataGenerator(rescale=1./255)\n",
        "validation_generator = validation_data_generator.flow_from_directory(validation_directory, target_size=(\n",
        "    288, 432), color_mode='rgba', class_mode='categorical', batch_size=128)"
      ]
    },
    {
      "cell_type": "code",
      "execution_count": 11,
      "metadata": {
        "id": "yi8lZUStDa6U"
      },
      "outputs": [],
      "source": [
        "def cnn(input_shape=(288, 432, 4), classes=9):\n",
        "    def step(dim, X):\n",
        "        X = Conv2D(dim, kernel_size=(3, 3), strides=(1, 1))(X)\n",
        "        X = BatchNormalization(axis=3)(X)\n",
        "        X = Activation('relu')(X)\n",
        "        return MaxPooling2D((2, 2))(X)\n",
        "    X_input = Input(input_shape)\n",
        "    X = X_input\n",
        "    layer_dims = [8, 16, 32, 64, 128, 256]\n",
        "    for dim in layer_dims:\n",
        "        X = step(dim, X)\n",
        "\n",
        "    X = Flatten()(X)\n",
        "    X = Dropout(rate=0.3)(X)\n",
        "    X = Dense(classes, activation='softmax',\n",
        "              name=f'fc{classes}',  kernel_initializer=glorot_uniform(seed=9))(X)\n",
        "    model = Model(inputs=X_input, outputs=X, name='cnn')\n",
        "    return model\n",
        "\n",
        "def f1_score(y_true, y_pred):\n",
        "    true_positives = K.sum(K.round(K.clip(y_true * y_pred, 0, 1)))\n",
        "    possible_positives = K.sum(K.round(K.clip(y_true, 0, 1)))\n",
        "    predicted_positives = K.sum(K.round(K.clip(y_pred, 0, 1)))\n",
        "    precision = true_positives / (predicted_positives + K.epsilon())\n",
        "    recall = true_positives / (possible_positives + K.epsilon())\n",
        "    f1_val = 2 * (precision * recall) / (precision + recall + K.epsilon())\n",
        "    return f1_val"
      ]
    },
    {
      "cell_type": "code",
      "execution_count": 12,
      "metadata": {
        "colab": {
          "base_uri": "https://localhost:8080/",
          "height": 120
        },
        "id": "8BPQgHGNxdgD",
        "outputId": "728058f3-7780-4aa4-9ad6-31c94136e8ce"
      },
      "outputs": [
        {
          "name": "stdout",
          "output_type": "stream",
          "text": [
            "Model: \"cnn\"\n",
            "_________________________________________________________________\n",
            "Layer (type)                 Output Shape              Param #   \n",
            "=================================================================\n",
            "input_1 (InputLayer)         [(None, 288, 432, 4)]     0         \n",
            "_________________________________________________________________\n",
            "conv2d (Conv2D)              (None, 286, 430, 8)       296       \n",
            "_________________________________________________________________\n",
            "batch_normalization (BatchNo (None, 286, 430, 8)       32        \n",
            "_________________________________________________________________\n",
            "activation (Activation)      (None, 286, 430, 8)       0         \n",
            "_________________________________________________________________\n",
            "max_pooling2d (MaxPooling2D) (None, 143, 215, 8)       0         \n",
            "_________________________________________________________________\n",
            "conv2d_1 (Conv2D)            (None, 141, 213, 16)      1168      \n",
            "_________________________________________________________________\n",
            "batch_normalization_1 (Batch (None, 141, 213, 16)      64        \n",
            "_________________________________________________________________\n",
            "activation_1 (Activation)    (None, 141, 213, 16)      0         \n",
            "_________________________________________________________________\n",
            "max_pooling2d_1 (MaxPooling2 (None, 70, 106, 16)       0         \n",
            "_________________________________________________________________\n",
            "conv2d_2 (Conv2D)            (None, 68, 104, 32)       4640      \n",
            "_________________________________________________________________\n",
            "batch_normalization_2 (Batch (None, 68, 104, 32)       128       \n",
            "_________________________________________________________________\n",
            "activation_2 (Activation)    (None, 68, 104, 32)       0         \n",
            "_________________________________________________________________\n",
            "max_pooling2d_2 (MaxPooling2 (None, 34, 52, 32)        0         \n",
            "_________________________________________________________________\n",
            "conv2d_3 (Conv2D)            (None, 32, 50, 64)        18496     \n",
            "_________________________________________________________________\n",
            "batch_normalization_3 (Batch (None, 32, 50, 64)        256       \n",
            "_________________________________________________________________\n",
            "activation_3 (Activation)    (None, 32, 50, 64)        0         \n",
            "_________________________________________________________________\n",
            "max_pooling2d_3 (MaxPooling2 (None, 16, 25, 64)        0         \n",
            "_________________________________________________________________\n",
            "conv2d_4 (Conv2D)            (None, 14, 23, 128)       73856     \n",
            "_________________________________________________________________\n",
            "batch_normalization_4 (Batch (None, 14, 23, 128)       512       \n",
            "_________________________________________________________________\n",
            "activation_4 (Activation)    (None, 14, 23, 128)       0         \n",
            "_________________________________________________________________\n",
            "max_pooling2d_4 (MaxPooling2 (None, 7, 11, 128)        0         \n",
            "_________________________________________________________________\n",
            "conv2d_5 (Conv2D)            (None, 5, 9, 256)         295168    \n",
            "_________________________________________________________________\n",
            "batch_normalization_5 (Batch (None, 5, 9, 256)         1024      \n",
            "_________________________________________________________________\n",
            "activation_5 (Activation)    (None, 5, 9, 256)         0         \n",
            "_________________________________________________________________\n",
            "max_pooling2d_5 (MaxPooling2 (None, 2, 4, 256)         0         \n",
            "_________________________________________________________________\n",
            "flatten (Flatten)            (None, 2048)              0         \n",
            "_________________________________________________________________\n",
            "dropout (Dropout)            (None, 2048)              0         \n",
            "_________________________________________________________________\n",
            "fc9 (Dense)                  (None, 9)                 18441     \n",
            "=================================================================\n",
            "Total params: 414,081\n",
            "Trainable params: 413,073\n",
            "Non-trainable params: 1,008\n",
            "_________________________________________________________________\n"
          ]
        }
      ],
      "source": [
        "model = cnn(input_shape=(288, 432, 4), classes=9)\n",
        "opt = Adam(learning_rate=0.00005)\n",
        "model.compile(optimizer=opt, loss='categorical_crossentropy', metrics=['accuracy', f1_score])\n",
        "model.summary()"
      ]
    },
    {
      "cell_type": "code",
      "execution_count": 13,
      "metadata": {
        "colab": {
          "base_uri": "https://localhost:8080/",
          "height": 1000
        },
        "id": "RGy6YFBJzWSV",
        "outputId": "1c0b24b2-8d1c-4004-d654-609a69db8f92"
      },
      "outputs": [
        {
          "name": "stdout",
          "output_type": "stream",
          "text": [
            "Epoch 1/100\n",
            "58/58 [==============================] - 329s 6s/step - loss: 2.2779 - accuracy: 0.2211 - f1_score: 0.1139 - val_loss: 2.2322 - val_accuracy: 0.1111 - val_f1_score: 0.0000e+00\n",
            "Epoch 2/100\n",
            "58/58 [==============================] - 325s 6s/step - loss: 1.8132 - accuracy: 0.3441 - f1_score: 0.2636 - val_loss: 2.3169 - val_accuracy: 0.1111 - val_f1_score: 0.0000e+00\n",
            "Epoch 3/100\n",
            "58/58 [==============================] - 330s 6s/step - loss: 1.5687 - accuracy: 0.4336 - f1_score: 0.3524 - val_loss: 2.4569 - val_accuracy: 0.1111 - val_f1_score: 0.0000e+00\n",
            "Epoch 4/100\n",
            "58/58 [==============================] - 325s 6s/step - loss: 1.4188 - accuracy: 0.4852 - f1_score: 0.4210 - val_loss: 2.6208 - val_accuracy: 0.1111 - val_f1_score: 0.1424\n",
            "Epoch 5/100\n",
            "58/58 [==============================] - 327s 6s/step - loss: 1.3068 - accuracy: 0.5268 - f1_score: 0.4710 - val_loss: 2.5900 - val_accuracy: 0.1122 - val_f1_score: 0.1857\n",
            "Epoch 6/100\n",
            "58/58 [==============================] - 327s 6s/step - loss: 1.2142 - accuracy: 0.5633 - f1_score: 0.5131 - val_loss: 2.3346 - val_accuracy: 0.1856 - val_f1_score: 0.1551\n",
            "Epoch 7/100\n",
            "58/58 [==============================] - 330s 6s/step - loss: 1.1401 - accuracy: 0.5930 - f1_score: 0.5426 - val_loss: 2.0113 - val_accuracy: 0.2678 - val_f1_score: 0.2310\n",
            "Epoch 8/100\n",
            "58/58 [==============================] - 328s 6s/step - loss: 1.0617 - accuracy: 0.6277 - f1_score: 0.5851 - val_loss: 1.6777 - val_accuracy: 0.3722 - val_f1_score: 0.3346\n",
            "Epoch 9/100\n",
            "58/58 [==============================] - 330s 6s/step - loss: 1.0065 - accuracy: 0.6438 - f1_score: 0.6030 - val_loss: 1.2580 - val_accuracy: 0.5889 - val_f1_score: 0.4676\n",
            "Epoch 10/100\n",
            "58/58 [==============================] - 332s 6s/step - loss: 0.9573 - accuracy: 0.6646 - f1_score: 0.6364 - val_loss: 1.1040 - val_accuracy: 0.6356 - val_f1_score: 0.5319\n",
            "Epoch 11/100\n",
            "58/58 [==============================] - 330s 6s/step - loss: 0.9016 - accuracy: 0.6839 - f1_score: 0.6498 - val_loss: 0.9994 - val_accuracy: 0.6900 - val_f1_score: 0.5717\n",
            "Epoch 12/100\n",
            "58/58 [==============================] - 332s 6s/step - loss: 0.8529 - accuracy: 0.6998 - f1_score: 0.6795 - val_loss: 0.9557 - val_accuracy: 0.6944 - val_f1_score: 0.6521\n",
            "Epoch 13/100\n",
            "58/58 [==============================] - 328s 6s/step - loss: 0.8148 - accuracy: 0.7149 - f1_score: 0.6975 - val_loss: 0.8725 - val_accuracy: 0.7233 - val_f1_score: 0.7400\n",
            "Epoch 14/100\n",
            "58/58 [==============================] - 330s 6s/step - loss: 0.7689 - accuracy: 0.7325 - f1_score: 0.7168 - val_loss: 0.8582 - val_accuracy: 0.7189 - val_f1_score: 0.6705\n",
            "Epoch 15/100\n",
            "58/58 [==============================] - 325s 6s/step - loss: 0.7428 - accuracy: 0.7429 - f1_score: 0.7290 - val_loss: 0.9195 - val_accuracy: 0.7133 - val_f1_score: 0.7054\n",
            "Epoch 16/100\n",
            "58/58 [==============================] - 324s 6s/step - loss: 0.6986 - accuracy: 0.7608 - f1_score: 0.7467 - val_loss: 0.8240 - val_accuracy: 0.7333 - val_f1_score: 0.7383\n",
            "Epoch 17/100\n",
            "58/58 [==============================] - 322s 6s/step - loss: 0.6716 - accuracy: 0.7700 - f1_score: 0.7565 - val_loss: 0.8120 - val_accuracy: 0.7289 - val_f1_score: 0.7273\n",
            "Epoch 18/100\n",
            "58/58 [==============================] - 321s 6s/step - loss: 0.6372 - accuracy: 0.7830 - f1_score: 0.7691 - val_loss: 0.7964 - val_accuracy: 0.7400 - val_f1_score: 0.7667\n",
            "Epoch 19/100\n",
            "58/58 [==============================] - 331s 6s/step - loss: 0.6162 - accuracy: 0.7883 - f1_score: 0.7790 - val_loss: 0.7720 - val_accuracy: 0.7533 - val_f1_score: 0.7708\n",
            "Epoch 20/100\n",
            "58/58 [==============================] - 387s 7s/step - loss: 0.5739 - accuracy: 0.8070 - f1_score: 0.7923 - val_loss: 0.7397 - val_accuracy: 0.7578 - val_f1_score: 0.7849\n",
            "Epoch 21/100\n",
            "58/58 [==============================] - 327s 6s/step - loss: 0.5522 - accuracy: 0.8180 - f1_score: 0.8049 - val_loss: 0.7729 - val_accuracy: 0.7444 - val_f1_score: 0.6822\n",
            "Epoch 22/100\n",
            "58/58 [==============================] - 313s 5s/step - loss: 0.5343 - accuracy: 0.8190 - f1_score: 0.8122 - val_loss: 0.7688 - val_accuracy: 0.7544 - val_f1_score: 0.7349\n",
            "Epoch 23/100\n",
            "58/58 [==============================] - 381s 7s/step - loss: 0.5112 - accuracy: 0.8297 - f1_score: 0.8193 - val_loss: 0.7202 - val_accuracy: 0.7656 - val_f1_score: 0.7578\n",
            "Epoch 24/100\n",
            "58/58 [==============================] - 387s 7s/step - loss: 0.4869 - accuracy: 0.8402 - f1_score: 0.8333 - val_loss: 0.7109 - val_accuracy: 0.7756 - val_f1_score: 0.7240\n",
            "Epoch 25/100\n",
            "58/58 [==============================] - 386s 7s/step - loss: 0.4608 - accuracy: 0.8536 - f1_score: 0.8450 - val_loss: 0.6889 - val_accuracy: 0.7722 - val_f1_score: 0.7784\n",
            "Epoch 26/100\n",
            "58/58 [==============================] - 387s 7s/step - loss: 0.4411 - accuracy: 0.8555 - f1_score: 0.8494 - val_loss: 0.6999 - val_accuracy: 0.7689 - val_f1_score: 0.7506\n",
            "Epoch 27/100\n",
            "58/58 [==============================] - 386s 7s/step - loss: 0.4207 - accuracy: 0.8633 - f1_score: 0.8560 - val_loss: 0.6714 - val_accuracy: 0.7767 - val_f1_score: 0.8037\n",
            "Epoch 28/100\n",
            "58/58 [==============================] - 388s 7s/step - loss: 0.3983 - accuracy: 0.8714 - f1_score: 0.8665 - val_loss: 0.6723 - val_accuracy: 0.7733 - val_f1_score: 0.7826\n",
            "Epoch 29/100\n",
            "58/58 [==============================] - 388s 7s/step - loss: 0.3784 - accuracy: 0.8793 - f1_score: 0.8752 - val_loss: 0.6791 - val_accuracy: 0.7822 - val_f1_score: 0.7682\n",
            "Epoch 30/100\n",
            "58/58 [==============================] - 389s 7s/step - loss: 0.3587 - accuracy: 0.8886 - f1_score: 0.8855 - val_loss: 0.6563 - val_accuracy: 0.7800 - val_f1_score: 0.7916\n",
            "Epoch 31/100\n",
            "58/58 [==============================] - 391s 7s/step - loss: 0.3438 - accuracy: 0.8920 - f1_score: 0.8871 - val_loss: 0.6534 - val_accuracy: 0.7811 - val_f1_score: 0.7747\n",
            "Epoch 32/100\n",
            "58/58 [==============================] - 387s 7s/step - loss: 0.3305 - accuracy: 0.8974 - f1_score: 0.8939 - val_loss: 0.6383 - val_accuracy: 0.7956 - val_f1_score: 0.8160\n",
            "Epoch 33/100\n",
            "58/58 [==============================] - 382s 7s/step - loss: 0.3059 - accuracy: 0.9098 - f1_score: 0.9041 - val_loss: 0.6653 - val_accuracy: 0.7833 - val_f1_score: 0.7938\n",
            "Epoch 34/100\n",
            "58/58 [==============================] - 383s 7s/step - loss: 0.3030 - accuracy: 0.9083 - f1_score: 0.9020 - val_loss: 0.6461 - val_accuracy: 0.7889 - val_f1_score: 0.7252\n",
            "Epoch 35/100\n",
            "58/58 [==============================] - 386s 7s/step - loss: 0.2904 - accuracy: 0.9133 - f1_score: 0.9069 - val_loss: 0.6532 - val_accuracy: 0.7644 - val_f1_score: 0.7957\n",
            "Epoch 36/100\n",
            "58/58 [==============================] - 388s 7s/step - loss: 0.2700 - accuracy: 0.9240 - f1_score: 0.9187 - val_loss: 0.6415 - val_accuracy: 0.7856 - val_f1_score: 0.8082\n",
            "Epoch 37/100\n",
            "58/58 [==============================] - 384s 7s/step - loss: 0.2564 - accuracy: 0.9253 - f1_score: 0.9227 - val_loss: 0.6037 - val_accuracy: 0.8022 - val_f1_score: 0.8220\n",
            "Epoch 38/100\n",
            "58/58 [==============================] - 386s 7s/step - loss: 0.2439 - accuracy: 0.9305 - f1_score: 0.9277 - val_loss: 0.6113 - val_accuracy: 0.7833 - val_f1_score: 0.7840\n",
            "Epoch 39/100\n",
            "58/58 [==============================] - 388s 7s/step - loss: 0.2397 - accuracy: 0.9315 - f1_score: 0.9269 - val_loss: 0.6106 - val_accuracy: 0.7967 - val_f1_score: 0.8081\n",
            "Epoch 40/100\n",
            "58/58 [==============================] - 387s 7s/step - loss: 0.2213 - accuracy: 0.9422 - f1_score: 0.9365 - val_loss: 0.6496 - val_accuracy: 0.7822 - val_f1_score: 0.7817\n",
            "Epoch 41/100\n",
            "58/58 [==============================] - 389s 7s/step - loss: 0.2116 - accuracy: 0.9454 - f1_score: 0.9418 - val_loss: 0.5996 - val_accuracy: 0.8067 - val_f1_score: 0.7429\n",
            "Epoch 42/100\n",
            "58/58 [==============================] - 387s 7s/step - loss: 0.1955 - accuracy: 0.9484 - f1_score: 0.9451 - val_loss: 0.5891 - val_accuracy: 0.7967 - val_f1_score: 0.7976\n",
            "Epoch 43/100\n",
            "58/58 [==============================] - 386s 7s/step - loss: 0.1882 - accuracy: 0.9531 - f1_score: 0.9500 - val_loss: 0.6170 - val_accuracy: 0.7911 - val_f1_score: 0.7879\n",
            "Epoch 44/100\n",
            "58/58 [==============================] - 384s 7s/step - loss: 0.1864 - accuracy: 0.9517 - f1_score: 0.9460 - val_loss: 0.5882 - val_accuracy: 0.8022 - val_f1_score: 0.8103\n",
            "Epoch 45/100\n",
            "58/58 [==============================] - 382s 7s/step - loss: 0.1815 - accuracy: 0.9537 - f1_score: 0.9504 - val_loss: 0.5834 - val_accuracy: 0.8100 - val_f1_score: 0.8091\n",
            "Epoch 46/100\n",
            "58/58 [==============================] - 382s 7s/step - loss: 0.1669 - accuracy: 0.9594 - f1_score: 0.9565 - val_loss: 0.5781 - val_accuracy: 0.8100 - val_f1_score: 0.8083\n",
            "Epoch 47/100\n",
            "58/58 [==============================] - 383s 7s/step - loss: 0.1644 - accuracy: 0.9595 - f1_score: 0.9567 - val_loss: 0.5620 - val_accuracy: 0.8089 - val_f1_score: 0.7844\n",
            "Epoch 48/100\n",
            "58/58 [==============================] - 385s 7s/step - loss: 0.1570 - accuracy: 0.9616 - f1_score: 0.9604 - val_loss: 0.6075 - val_accuracy: 0.8033 - val_f1_score: 0.8069\n",
            "Epoch 49/100\n",
            "58/58 [==============================] - 384s 7s/step - loss: 0.1876 - accuracy: 0.9475 - f1_score: 0.9447 - val_loss: 0.6899 - val_accuracy: 0.7578 - val_f1_score: 0.7082\n",
            "Epoch 50/100\n",
            "58/58 [==============================] - 385s 7s/step - loss: 0.1469 - accuracy: 0.9630 - f1_score: 0.9596 - val_loss: 0.6081 - val_accuracy: 0.8000 - val_f1_score: 0.8032\n",
            "Epoch 51/100\n",
            "58/58 [==============================] - 383s 7s/step - loss: 0.1435 - accuracy: 0.9642 - f1_score: 0.9636 - val_loss: 0.5724 - val_accuracy: 0.8056 - val_f1_score: 0.8003\n",
            "Epoch 52/100\n",
            "58/58 [==============================] - 383s 7s/step - loss: 0.1320 - accuracy: 0.9699 - f1_score: 0.9686 - val_loss: 0.5888 - val_accuracy: 0.7944 - val_f1_score: 0.7930\n",
            "Epoch 53/100\n",
            "58/58 [==============================] - 383s 7s/step - loss: 0.1196 - accuracy: 0.9766 - f1_score: 0.9755 - val_loss: 0.5692 - val_accuracy: 0.8133 - val_f1_score: 0.8220\n",
            "Epoch 54/100\n",
            "58/58 [==============================] - 382s 7s/step - loss: 0.1153 - accuracy: 0.9754 - f1_score: 0.9738 - val_loss: 0.5742 - val_accuracy: 0.8089 - val_f1_score: 0.8011\n",
            "Epoch 55/100\n",
            "58/58 [==============================] - 384s 7s/step - loss: 0.1186 - accuracy: 0.9749 - f1_score: 0.9722 - val_loss: 0.6050 - val_accuracy: 0.8100 - val_f1_score: 0.8353\n",
            "Epoch 56/100\n",
            "58/58 [==============================] - 384s 7s/step - loss: 0.1144 - accuracy: 0.9750 - f1_score: 0.9735 - val_loss: 0.5600 - val_accuracy: 0.8111 - val_f1_score: 0.7860\n",
            "Epoch 57/100\n",
            "58/58 [==============================] - 383s 7s/step - loss: 0.1038 - accuracy: 0.9801 - f1_score: 0.9778 - val_loss: 0.5567 - val_accuracy: 0.8056 - val_f1_score: 0.7877\n",
            "Epoch 58/100\n",
            "58/58 [==============================] - 385s 7s/step - loss: 0.0986 - accuracy: 0.9814 - f1_score: 0.9796 - val_loss: 0.5822 - val_accuracy: 0.8100 - val_f1_score: 0.8067\n",
            "Epoch 59/100\n",
            "58/58 [==============================] - 385s 7s/step - loss: 0.0934 - accuracy: 0.9828 - f1_score: 0.9811 - val_loss: 0.5759 - val_accuracy: 0.8122 - val_f1_score: 0.8371\n",
            "Epoch 60/100\n",
            "58/58 [==============================] - 382s 7s/step - loss: 0.0902 - accuracy: 0.9842 - f1_score: 0.9825 - val_loss: 0.5882 - val_accuracy: 0.8144 - val_f1_score: 0.7759\n",
            "Epoch 61/100\n",
            "58/58 [==============================] - 383s 7s/step - loss: 0.0836 - accuracy: 0.9856 - f1_score: 0.9848 - val_loss: 0.5547 - val_accuracy: 0.8178 - val_f1_score: 0.8120\n",
            "Epoch 62/100\n",
            "58/58 [==============================] - 383s 7s/step - loss: 0.0788 - accuracy: 0.9877 - f1_score: 0.9866 - val_loss: 0.5482 - val_accuracy: 0.8044 - val_f1_score: 0.8040\n",
            "Epoch 63/100\n",
            "58/58 [==============================] - 384s 7s/step - loss: 0.0779 - accuracy: 0.9866 - f1_score: 0.9856 - val_loss: 0.5660 - val_accuracy: 0.8111 - val_f1_score: 0.8414\n",
            "Epoch 64/100\n",
            "58/58 [==============================] - 383s 7s/step - loss: 0.0767 - accuracy: 0.9873 - f1_score: 0.9868 - val_loss: 0.5620 - val_accuracy: 0.8122 - val_f1_score: 0.8382\n",
            "Epoch 65/100\n",
            "58/58 [==============================] - 384s 7s/step - loss: 0.0753 - accuracy: 0.9874 - f1_score: 0.9862 - val_loss: 0.5586 - val_accuracy: 0.8122 - val_f1_score: 0.7793\n",
            "Epoch 66/100\n",
            "58/58 [==============================] - 383s 7s/step - loss: 0.0767 - accuracy: 0.9864 - f1_score: 0.9852 - val_loss: 0.5793 - val_accuracy: 0.8111 - val_f1_score: 0.7754\n",
            "Epoch 67/100\n",
            "58/58 [==============================] - 383s 7s/step - loss: 0.0724 - accuracy: 0.9874 - f1_score: 0.9859 - val_loss: 0.5363 - val_accuracy: 0.8222 - val_f1_score: 0.8149\n",
            "Epoch 68/100\n",
            "58/58 [==============================] - 386s 7s/step - loss: 0.0661 - accuracy: 0.9892 - f1_score: 0.9885 - val_loss: 0.5517 - val_accuracy: 0.8300 - val_f1_score: 0.8493\n",
            "Epoch 69/100\n",
            "58/58 [==============================] - 384s 7s/step - loss: 0.0652 - accuracy: 0.9901 - f1_score: 0.9892 - val_loss: 0.5605 - val_accuracy: 0.8244 - val_f1_score: 0.8493\n",
            "Epoch 70/100\n",
            "58/58 [==============================] - 383s 7s/step - loss: 0.0635 - accuracy: 0.9903 - f1_score: 0.9893 - val_loss: 0.5599 - val_accuracy: 0.8056 - val_f1_score: 0.8068\n",
            "Epoch 71/100\n",
            "58/58 [==============================] - 384s 7s/step - loss: 0.0615 - accuracy: 0.9905 - f1_score: 0.9896 - val_loss: 0.5870 - val_accuracy: 0.8144 - val_f1_score: 0.8422\n",
            "Epoch 72/100\n",
            "58/58 [==============================] - 382s 7s/step - loss: 0.0592 - accuracy: 0.9908 - f1_score: 0.9902 - val_loss: 0.5451 - val_accuracy: 0.8322 - val_f1_score: 0.8503\n",
            "Epoch 73/100\n",
            "58/58 [==============================] - 386s 7s/step - loss: 0.0554 - accuracy: 0.9920 - f1_score: 0.9915 - val_loss: 0.5510 - val_accuracy: 0.8211 - val_f1_score: 0.8455\n",
            "Epoch 74/100\n",
            "58/58 [==============================] - 384s 7s/step - loss: 0.0528 - accuracy: 0.9923 - f1_score: 0.9920 - val_loss: 0.5473 - val_accuracy: 0.8322 - val_f1_score: 0.8386\n",
            "Epoch 75/100\n",
            "58/58 [==============================] - 385s 7s/step - loss: 0.0505 - accuracy: 0.9927 - f1_score: 0.9929 - val_loss: 0.5461 - val_accuracy: 0.8356 - val_f1_score: 0.8318\n",
            "Epoch 76/100\n",
            "58/58 [==============================] - 384s 7s/step - loss: 0.0491 - accuracy: 0.9937 - f1_score: 0.9935 - val_loss: 0.5564 - val_accuracy: 0.8222 - val_f1_score: 0.8069\n",
            "Epoch 77/100\n",
            "58/58 [==============================] - 384s 7s/step - loss: 0.0479 - accuracy: 0.9931 - f1_score: 0.9926 - val_loss: 0.5331 - val_accuracy: 0.8200 - val_f1_score: 0.8470\n",
            "Epoch 78/100\n",
            "58/58 [==============================] - 384s 7s/step - loss: 0.0503 - accuracy: 0.9920 - f1_score: 0.9911 - val_loss: 0.5960 - val_accuracy: 0.8178 - val_f1_score: 0.8407\n",
            "Epoch 79/100\n",
            "58/58 [==============================] - 384s 7s/step - loss: 0.0438 - accuracy: 0.9943 - f1_score: 0.9943 - val_loss: 0.5440 - val_accuracy: 0.8244 - val_f1_score: 0.8313\n",
            "Epoch 80/100\n",
            "58/58 [==============================] - 384s 7s/step - loss: 0.0424 - accuracy: 0.9958 - f1_score: 0.9950 - val_loss: 0.5433 - val_accuracy: 0.8156 - val_f1_score: 0.8266\n",
            "Epoch 81/100\n",
            "58/58 [==============================] - 384s 7s/step - loss: 0.0432 - accuracy: 0.9942 - f1_score: 0.9933 - val_loss: 0.5736 - val_accuracy: 0.8233 - val_f1_score: 0.8500\n",
            "Epoch 82/100\n",
            "58/58 [==============================] - 386s 7s/step - loss: 0.0489 - accuracy: 0.9923 - f1_score: 0.9917 - val_loss: 0.5771 - val_accuracy: 0.8200 - val_f1_score: 0.8104\n",
            "Epoch 83/100\n",
            "58/58 [==============================] - 385s 7s/step - loss: 0.0410 - accuracy: 0.9954 - f1_score: 0.9951 - val_loss: 0.5685 - val_accuracy: 0.8167 - val_f1_score: 0.8427\n",
            "Epoch 84/100\n",
            "58/58 [==============================] - 386s 7s/step - loss: 0.0418 - accuracy: 0.9946 - f1_score: 0.9939 - val_loss: 0.5192 - val_accuracy: 0.8322 - val_f1_score: 0.8021\n",
            "Epoch 85/100\n",
            "58/58 [==============================] - 394s 7s/step - loss: 0.0391 - accuracy: 0.9937 - f1_score: 0.9933 - val_loss: 0.5591 - val_accuracy: 0.8189 - val_f1_score: 0.8163\n",
            "Epoch 86/100\n",
            "58/58 [==============================] - 384s 7s/step - loss: 0.0371 - accuracy: 0.9961 - f1_score: 0.9958 - val_loss: 0.5472 - val_accuracy: 0.8356 - val_f1_score: 0.8586\n",
            "Epoch 87/100\n",
            "58/58 [==============================] - 385s 7s/step - loss: 0.0345 - accuracy: 0.9962 - f1_score: 0.9962 - val_loss: 0.5395 - val_accuracy: 0.8278 - val_f1_score: 0.7652\n",
            "Epoch 88/100\n",
            "58/58 [==============================] - 384s 7s/step - loss: 0.0336 - accuracy: 0.9962 - f1_score: 0.9961 - val_loss: 0.5359 - val_accuracy: 0.8256 - val_f1_score: 0.8212\n",
            "Epoch 89/100\n",
            "58/58 [==============================] - 383s 7s/step - loss: 0.0350 - accuracy: 0.9949 - f1_score: 0.9951 - val_loss: 0.5396 - val_accuracy: 0.8256 - val_f1_score: 0.7923\n",
            "Epoch 90/100\n",
            "58/58 [==============================] - 385s 7s/step - loss: 0.0316 - accuracy: 0.9966 - f1_score: 0.9961 - val_loss: 0.5570 - val_accuracy: 0.8333 - val_f1_score: 0.8280\n",
            "Epoch 91/100\n",
            "58/58 [==============================] - 385s 7s/step - loss: 0.0327 - accuracy: 0.9954 - f1_score: 0.9951 - val_loss: 0.5780 - val_accuracy: 0.8200 - val_f1_score: 0.8482\n",
            "Epoch 92/100\n",
            "58/58 [==============================] - 385s 7s/step - loss: 0.0320 - accuracy: 0.9955 - f1_score: 0.9957 - val_loss: 0.5417 - val_accuracy: 0.8200 - val_f1_score: 0.8439\n",
            "Epoch 93/100\n",
            "58/58 [==============================] - 371s 6s/step - loss: 0.0297 - accuracy: 0.9959 - f1_score: 0.9955 - val_loss: 0.5561 - val_accuracy: 0.8233 - val_f1_score: 0.7838\n",
            "Epoch 94/100\n",
            "58/58 [==============================] - 317s 5s/step - loss: 0.0349 - accuracy: 0.9953 - f1_score: 0.9952 - val_loss: 0.5281 - val_accuracy: 0.8278 - val_f1_score: 0.8515\n",
            "Epoch 95/100\n",
            "58/58 [==============================] - 329s 6s/step - loss: 0.0286 - accuracy: 0.9958 - f1_score: 0.9957 - val_loss: 0.5718 - val_accuracy: 0.8189 - val_f1_score: 0.8444\n",
            "Epoch 96/100\n",
            "58/58 [==============================] - 389s 7s/step - loss: 0.0275 - accuracy: 0.9970 - f1_score: 0.9971 - val_loss: 0.5710 - val_accuracy: 0.8244 - val_f1_score: 0.8488\n",
            "Epoch 97/100\n",
            "58/58 [==============================] - 390s 7s/step - loss: 0.0283 - accuracy: 0.9964 - f1_score: 0.9959 - val_loss: 0.5621 - val_accuracy: 0.8267 - val_f1_score: 0.8302\n",
            "Epoch 98/100\n",
            "58/58 [==============================] - 374s 6s/step - loss: 0.0279 - accuracy: 0.9966 - f1_score: 0.9964 - val_loss: 0.5251 - val_accuracy: 0.8300 - val_f1_score: 0.7951\n",
            "Epoch 99/100\n",
            "58/58 [==============================] - 322s 6s/step - loss: 0.0271 - accuracy: 0.9966 - f1_score: 0.9964 - val_loss: 0.5297 - val_accuracy: 0.8378 - val_f1_score: 0.8635\n",
            "Epoch 100/100\n",
            "58/58 [==============================] - 322s 6s/step - loss: 0.0290 - accuracy: 0.9966 - f1_score: 0.9962 - val_loss: 0.5392 - val_accuracy: 0.8267 - val_f1_score: 0.8343\n"
          ]
        },
        {
          "ename": "KeyError",
          "evalue": "'acc'",
          "output_type": "error",
          "traceback": [
            "\u001b[1;31m---------------------------------------------------------------------------\u001b[0m",
            "\u001b[1;31mKeyError\u001b[0m                                  Traceback (most recent call last)",
            "\u001b[1;32m<ipython-input-13-83d7ad36eced>\u001b[0m in \u001b[0;36m<module>\u001b[1;34m\u001b[0m\n\u001b[0;32m      1\u001b[0m \u001b[0mhistory\u001b[0m \u001b[1;33m=\u001b[0m \u001b[0mmodel\u001b[0m\u001b[1;33m.\u001b[0m\u001b[0mfit\u001b[0m\u001b[1;33m(\u001b[0m\u001b[0mtrain_generator\u001b[0m\u001b[1;33m,\u001b[0m \u001b[0mepochs\u001b[0m\u001b[1;33m=\u001b[0m\u001b[1;36m100\u001b[0m\u001b[1;33m,\u001b[0m \u001b[0mvalidation_data\u001b[0m\u001b[1;33m=\u001b[0m\u001b[0mvalidation_generator\u001b[0m\u001b[1;33m)\u001b[0m\u001b[1;33m\u001b[0m\u001b[1;33m\u001b[0m\u001b[0m\n\u001b[1;32m----> 2\u001b[1;33m \u001b[0mplt\u001b[0m\u001b[1;33m.\u001b[0m\u001b[0mplot\u001b[0m\u001b[1;33m(\u001b[0m\u001b[0mhistory\u001b[0m\u001b[1;33m.\u001b[0m\u001b[0mhistory\u001b[0m\u001b[1;33m[\u001b[0m\u001b[1;34m'acc'\u001b[0m\u001b[1;33m]\u001b[0m\u001b[1;33m)\u001b[0m\u001b[1;33m\u001b[0m\u001b[1;33m\u001b[0m\u001b[0m\n\u001b[0m\u001b[0;32m      3\u001b[0m \u001b[0mplt\u001b[0m\u001b[1;33m.\u001b[0m\u001b[0mplot\u001b[0m\u001b[1;33m(\u001b[0m\u001b[0mhistory\u001b[0m\u001b[1;33m.\u001b[0m\u001b[0mhistory\u001b[0m\u001b[1;33m[\u001b[0m\u001b[1;34m'val_acc'\u001b[0m\u001b[1;33m]\u001b[0m\u001b[1;33m)\u001b[0m\u001b[1;33m\u001b[0m\u001b[1;33m\u001b[0m\u001b[0m\n\u001b[0;32m      4\u001b[0m \u001b[0mplt\u001b[0m\u001b[1;33m.\u001b[0m\u001b[0mtitle\u001b[0m\u001b[1;33m(\u001b[0m\u001b[1;34m'model accuracy'\u001b[0m\u001b[1;33m)\u001b[0m\u001b[1;33m\u001b[0m\u001b[1;33m\u001b[0m\u001b[0m\n\u001b[0;32m      5\u001b[0m \u001b[0mplt\u001b[0m\u001b[1;33m.\u001b[0m\u001b[0mylabel\u001b[0m\u001b[1;33m(\u001b[0m\u001b[1;34m'accuracy'\u001b[0m\u001b[1;33m)\u001b[0m\u001b[1;33m\u001b[0m\u001b[1;33m\u001b[0m\u001b[0m\n",
            "\u001b[1;31mKeyError\u001b[0m: 'acc'"
          ]
        }
      ],
      "source": [
        "history = model.fit(train_generator, epochs=100, validation_data=validation_generator)\n"
      ]
    },
    {
      "cell_type": "code",
      "execution_count": 17,
      "metadata": {},
      "outputs": [
        {
          "data": {
            "image/png": "[encoded data removed]",
            "text/plain": [
              "<Figure size 432x288 with 1 Axes>"
            ]
          },
          "metadata": {},
          "output_type": "display_data"
        }
      ],
      "source": [
        "plt.plot(history.history['accuracy'])\n",
        "plt.plot(history.history['val_accuracy'])\n",
        "plt.title('model accuracy')\n",
        "plt.ylabel('accuracy')\n",
        "plt.xlabel('epoch')\n",
        "plt.grid()\n",
        "plt.legend(['train', 'val'], loc='upper left')\n",
        "plt.show()\n"
      ]
    },
    {
      "cell_type": "code",
      "execution_count": 18,
      "metadata": {},
      "outputs": [
        {
          "data": {
            "image/png": "[encoded data removed]",
            "text/plain": [
              "<Figure size 432x288 with 1 Axes>"
            ]
          },
          "metadata": {},
          "output_type": "display_data"
        }
      ],
      "source": [
        "plt.plot(history.history['loss'])\n",
        "plt.plot(history.history['val_loss'])\n",
        "plt.title('model loss')\n",
        "plt.ylabel('loss')\n",
        "plt.xlabel('epoch')\n",
        "plt.grid()\n",
        "plt.legend(['train', 'val'], loc='upper left')\n",
        "plt.show()"
      ]
    },
    {
      "cell_type": "code",
      "execution_count": 20,
      "metadata": {},
      "outputs": [],
      "source": [
        "model.save('CNNModelWeights.h5', save_format='h5')"
      ]
    },
    {
      "cell_type": "code",
      "execution_count": null,
      "metadata": {},
      "outputs": [],
      "source": []
    }
  ],
  "metadata": {
    "accelerator": "GPU",
    "colab": {
      "authorship_tag": "ABX9TyN5PrT2UkyhE13HljOGDYC3",
      "collapsed_sections": [],
      "include_colab_link": true,
      "name": "CNN genre.ipynb",
      "provenance": []
    },
    "kernelspec": {
      "display_name": "Python 3",
      "name": "python3"
    },
    "language_info": {
      "codemirror_mode": {
        "name": "ipython",
        "version": 3
      },
      "file_extension": ".py",
      "mimetype": "text/x-python",
      "name": "python",
      "nbconvert_exporter": "python",
      "pygments_lexer": "ipython3",
      "version": "3.8.8"
    }
  },
  "nbformat": 4,
  "nbformat_minor": 0
}
